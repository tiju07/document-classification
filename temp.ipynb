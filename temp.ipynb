{
 "cells": [
  {
   "cell_type": "code",
   "execution_count": 43,
   "id": "31753d29",
   "metadata": {},
   "outputs": [],
   "source": [
    "import os\n",
    "import mimetypes\n",
    "from openai import AzureOpenAI\n",
    "from PIL import Image\n",
    "from io import BytesIO\n",
    "import base64\n",
    "from docx import Document\n",
    "import fitz  # PyMuPDF\n",
    "\n",
    "llm = AzureOpenAI(\n",
    "    api_key=\"cb7f8503371e48b5\",\n",
    "    api_version=\"2024-08-01-preview\",\n",
    "    azure_endpoint=\"https://hexavarsity-secureapi.azurewebsites.net/api/azureai\",\n",
    "    azure_deployment=\"gpt-4o\"\n",
    ")"
   ]
  },
  {
   "cell_type": "code",
   "execution_count": 35,
   "id": "95e9500f",
   "metadata": {},
   "outputs": [],
   "source": [
    "def encode_image_to_base64(image: Image.Image) -> str:\n",
    "    buffered = BytesIO()\n",
    "    image.save(buffered, format=\"PNG\")\n",
    "    img_str = base64.b64encode(buffered.getvalue()).decode(\"utf-8\")\n",
    "    return f\"data:image/png;base64,{img_str}\""
   ]
  },
  {
   "cell_type": "code",
   "execution_count": 49,
   "id": "bd6161ac",
   "metadata": {},
   "outputs": [],
   "source": [
    "def summarize_image_with_vision(image: Image.Image) -> str:\n",
    "    encoded_image = encode_image_to_base64(image)\n",
    "    response = llm.chat.completions.create(\n",
    "        model=\"gpt-4o\",\n",
    "        messages=[\n",
    "            {\"role\": \"system\", \"content\": \"You are a document analysis assistant. Explain what's in this image.\"},\n",
    "            {\"role\": \"user\", \"content\": [{\"type\": \"image_url\", \"image_url\": {\"url\": encoded_image}}]}\n",
    "        ],\n",
    "        max_tokens=500\n",
    "    )\n",
    "    return response.choices[0].message.content.strip()"
   ]
  },
  {
   "cell_type": "code",
   "execution_count": 27,
   "id": "25683102",
   "metadata": {},
   "outputs": [],
   "source": [
    "def extract_images_from_pdf(pdf_path: str):\n",
    "    images = []\n",
    "    doc = fitz.open(pdf_path)\n",
    "    for page in doc:\n",
    "        for img_index, img in enumerate(page.get_images(full=True)):\n",
    "            xref = img[0]\n",
    "            base_image = doc.extract_image(xref)\n",
    "            img_bytes = base_image[\"image\"]\n",
    "            image = Image.open(BytesIO(img_bytes))\n",
    "            images.append(image)\n",
    "    return images"
   ]
  },
  {
   "cell_type": "code",
   "execution_count": 28,
   "id": "67071d21",
   "metadata": {},
   "outputs": [],
   "source": [
    "def extract_text_from_pdf(pdf_path: str) -> str:\n",
    "    text = \"\"\n",
    "    doc = fitz.open(pdf_path)\n",
    "    for page in doc:\n",
    "        text += page.get_text()\n",
    "    return text.strip()\n",
    "\n",
    "def extract_text_from_docx(docx_path: str) -> str:\n",
    "    doc = Document(docx_path)\n",
    "    return \"\\n\".join([para.text for para in doc.paragraphs]).strip()"
   ]
  },
  {
   "cell_type": "code",
   "execution_count": 29,
   "id": "ebebf29c",
   "metadata": {},
   "outputs": [],
   "source": [
    "def extract_images_from_docx(docx_path: str):\n",
    "    images = []\n",
    "    doc = Document(docx_path)\n",
    "    for rel in doc.part._rels:\n",
    "        rel = doc.part._rels[rel]\n",
    "        if \"image\" in rel.target_ref:\n",
    "            image_data = rel.target_part.blob\n",
    "            image = Image.open(BytesIO(image_data))\n",
    "            images.append(image)\n",
    "    return images\n"
   ]
  },
  {
   "cell_type": "code",
   "execution_count": 30,
   "id": "b3a35014",
   "metadata": {},
   "outputs": [],
   "source": [
    "def is_image_file(file_path: str) -> bool:\n",
    "    mime = mimetypes.guess_type(file_path)[0]\n",
    "    return mime and mime.startswith(\"image\")\n",
    "\n",
    "def process_file(file_path: str):\n",
    "    if is_image_file(file_path):\n",
    "        print(\"Detected image file.\")\n",
    "        img = Image.open(file_path)\n",
    "        return summarize_image_with_vision(img)\n",
    "\n",
    "    images = []\n",
    "    extracted_text = \"\"\n",
    "\n",
    "    if file_path.endswith(\".pdf\"):\n",
    "        print(\"Detected PDF file.\")\n",
    "        extracted_text = extract_text_from_pdf(file_path)\n",
    "        images = extract_images_from_pdf(file_path)\n",
    "    elif file_path.endswith(\".docx\"):\n",
    "        print(\"Detected DOCX file.\")\n",
    "        extracted_text = extract_text_from_docx(file_path)\n",
    "        images = extract_images_from_docx(file_path)\n",
    "    else:\n",
    "        raise ValueError(\"Unsupported file type\")\n",
    "\n",
    "    summaries = [[], []]\n",
    "\n",
    "    if extracted_text:\n",
    "        print(\"Extracted text...\")\n",
    "        summaries[0].append(extracted_text)\n",
    "\n",
    "    for idx, image in enumerate(images):\n",
    "        print(f\"Summarizing image {idx+1}...\")\n",
    "        summary = summarize_image_with_vision(image)\n",
    "        summaries[1].append(summary)\n",
    "\n",
    "    return summaries\n"
   ]
  },
  {
   "cell_type": "code",
   "execution_count": 50,
   "id": "ac8267fc",
   "metadata": {},
   "outputs": [
    {
     "name": "stdout",
     "output_type": "stream",
     "text": [
      "Detected PDF file.\n",
      "Extracted text...\n",
      "Summarizing image 1...\n",
      "Summarizing image 2...\n",
      "Summarizing image 3...\n",
      "Summarizing image 4...\n",
      "Summarizing image 5...\n",
      "Summarizing image 6...\n",
      "Summarizing image 7...\n",
      "Summarizing image 8...\n",
      "Summarizing image 9...\n"
     ]
    }
   ],
   "source": [
    "file_path = \"C:\\\\Users\\\\Asus\\\\Downloads\\\\Ticket.pdf\"  # Can also be image or docx\n",
    "result = process_file(file_path)"
   ]
  },
  {
   "cell_type": "code",
   "execution_count": 64,
   "id": "782c6dfa",
   "metadata": {},
   "outputs": [
    {
     "name": "stdout",
     "output_type": "stream",
     "text": [
      "The image is an advertisement for a credit card by RBL Bank. The background features a red gradient design. On the left side, there is a depiction of a credit card presented at an angle, with the RBL Bank logo displayed on it alongside \"RuPay SELECT\" branding. \n",
      "\n",
      "The text in the center reads \"Platform kis taraf ayega?\" which is a Hindi phrase translating to \"Which side will the platform come?\" in English. Below the text, there is a button labeled \"APPLY NOW\" encouraging viewers to apply for the credit card.\n",
      "\n",
      "On the right side, the advertisement highlights the benefits of the card, stating \"Get 40x Benefits.\" Also in this section, there's the RBL Bank logo. The terms and conditions are noted with \"T&C Apply\" in small print at the bottom.\n"
     ]
    }
   ],
   "source": [
    "print(result[1][8])"
   ]
  },
  {
   "cell_type": "code",
   "execution_count": null,
   "id": "387af6ce",
   "metadata": {},
   "outputs": [],
   "source": []
  }
 ],
 "metadata": {
  "kernelspec": {
   "display_name": ".venv",
   "language": "python",
   "name": "python3"
  },
  "language_info": {
   "codemirror_mode": {
    "name": "ipython",
    "version": 3
   },
   "file_extension": ".py",
   "mimetype": "text/x-python",
   "name": "python",
   "nbconvert_exporter": "python",
   "pygments_lexer": "ipython3",
   "version": "3.13.2"
  }
 },
 "nbformat": 4,
 "nbformat_minor": 5
}
